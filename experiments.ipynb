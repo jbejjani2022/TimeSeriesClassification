{
 "cells": [
  {
   "cell_type": "code",
   "execution_count": 39,
   "metadata": {},
   "outputs": [],
   "source": [
    "import numpy as np\n",
    "import pandas as pd\n",
    "from sklearn.ensemble import RandomForestClassifier\n",
    "from sklearn.preprocessing import MinMaxScaler\n",
    "import pandas_datareader as pdr\n",
    "from tensorflow import keras\n",
    "from tensorflow.keras.layers import Dense, LSTM, Dropout, Flatten\n",
    "from tensorflow.keras import Sequential\n",
    "from sklearn.preprocessing import MinMaxScaler\n",
    "import matplotlib.pyplot as plt\n",
    "from sklearn.metrics import accuracy_score, cohen_kappa_score, mean_absolute_error, mean_squared_error, mean_absolute_percentage_error"
   ]
  },
  {
   "cell_type": "markdown",
   "metadata": {},
   "source": [
    "First, lets fit a simple random forest classifier on historical S&P500 data. The training dataset consists of the S&P500 daily closing prices from 1927 to 2020. The length of each input sequence to the model is determined by `num_lags`: this is the size of the time window/number of previous closing prices used to predict/forecast the closing price on the following day.\n",
    "\n",
    "The model uses the movements in closing prices from the past `num_lags` days to predict whether the price will go up or down in the next day in the sequence."
   ]
  },
  {
   "cell_type": "code",
   "execution_count": 2,
   "metadata": {},
   "outputs": [],
   "source": [
    "DATA_PATH = 'cli/data/SP500.csv'"
   ]
  },
  {
   "cell_type": "code",
   "execution_count": 6,
   "metadata": {},
   "outputs": [],
   "source": [
    "# read the prices data into a pandas dataframe\n",
    "df = pd.read_csv(DATA_PATH)\n",
    "closing_prices = df['Close']\n",
    "\n",
    "# take the difference between each closing value to make the series stationary\n",
    "stationary_data = closing_prices.diff().dropna()\n",
    "# flatten the data array\n",
    "stationary_data = np.array(stationary_data).flatten()\n",
    "\n",
    "# classify positive returns as 1 and negative returns as -1, i.e. market 'up' and market 'down'\n",
    "# stationary_data = np.where(stationary_data > 0, 1, -1)"
   ]
  },
  {
   "cell_type": "code",
   "execution_count": 14,
   "metadata": {},
   "outputs": [],
   "source": [
    "# preprocess the data for training\n",
    "NUM_LAGS = 30\n",
    "SPLIT = 0.8\n",
    "\n",
    "def preprocess(df):\n",
    "    x, y = [], []\n",
    "    for i in range(len(df) - NUM_LAGS):\n",
    "        x.append(df[i : i + NUM_LAGS])\n",
    "        # classify positive returns as 1 and negative returns as -1\n",
    "        # i.e. market 'up' and market 'down'\n",
    "        y.append(1 if df[i + NUM_LAGS] > 0 else -1)\n",
    "    \n",
    "    return np.array(x), np.array(y)\n",
    "\n",
    "x, y = preprocess(stationary_data)\n",
    "# split data into train and test sets\n",
    "split_index = int(SPLIT * len(x))\n",
    "x_train, y_train = x[:split_index], y[:split_index]\n",
    "x_test, y_test = x[split_index:], y[split_index:]"
   ]
  },
  {
   "cell_type": "code",
   "execution_count": 15,
   "metadata": {},
   "outputs": [],
   "source": [
    "N_ESTIMATORS = 100\n",
    "RFClassifier = RandomForestClassifier(n_estimators=N_ESTIMATORS, random_state=0)"
   ]
  },
  {
   "cell_type": "code",
   "execution_count": 16,
   "metadata": {},
   "outputs": [
    {
     "name": "stdout",
     "output_type": "stream",
     "text": [
      "Accuracy: 0.51\n",
      "Kappa: 0.01\n"
     ]
    }
   ],
   "source": [
    "# fit the classifier and evaluate on test set\n",
    "RFClassifier.fit(x_train, y_train)\n",
    "y_predicted = RFClassifier.predict(x_test)\n",
    "\n",
    "def evaluate(labels, predicted):\n",
    "    accuracy = accuracy_score(labels, predicted)\n",
    "    kappa = cohen_kappa_score(labels, predicted)\n",
    "    return accuracy, kappa\n",
    "\n",
    "accuracy, score = evaluate(y_test, y_predicted)\n",
    "print(f\"Accuracy: {accuracy:.2f}\")\n",
    "print(f\"Kappa: {score:.2f}\")"
   ]
  },
  {
   "cell_type": "markdown",
   "metadata": {},
   "source": [
    "Now, lets train a simple LSTM on the same dataset for the same classification task and compare performance."
   ]
  },
  {
   "cell_type": "code",
   "execution_count": 18,
   "metadata": {},
   "outputs": [
    {
     "data": {
      "text/html": [
       "<pre style=\"white-space:pre;overflow-x:auto;line-height:normal;font-family:Menlo,'DejaVu Sans Mono',consolas,'Courier New',monospace\"><span style=\"font-weight: bold\">Model: \"sequential_1\"</span>\n",
       "</pre>\n"
      ],
      "text/plain": [
       "\u001b[1mModel: \"sequential_1\"\u001b[0m\n"
      ]
     },
     "metadata": {},
     "output_type": "display_data"
    },
    {
     "data": {
      "text/html": [
       "<pre style=\"white-space:pre;overflow-x:auto;line-height:normal;font-family:Menlo,'DejaVu Sans Mono',consolas,'Courier New',monospace\">┏━━━━━━━━━━━━━━━━━━━━━━━━━━━━━━━━━┳━━━━━━━━━━━━━━━━━━━━━━━━┳━━━━━━━━━━━━━━━┓\n",
       "┃<span style=\"font-weight: bold\"> Layer (type)                    </span>┃<span style=\"font-weight: bold\"> Output Shape           </span>┃<span style=\"font-weight: bold\">       Param # </span>┃\n",
       "┡━━━━━━━━━━━━━━━━━━━━━━━━━━━━━━━━━╇━━━━━━━━━━━━━━━━━━━━━━━━╇━━━━━━━━━━━━━━━┩\n",
       "│ lstm_1 (<span style=\"color: #0087ff; text-decoration-color: #0087ff\">LSTM</span>)                   │ ?                      │   <span style=\"color: #00af00; text-decoration-color: #00af00\">0</span> (unbuilt) │\n",
       "├─────────────────────────────────┼────────────────────────┼───────────────┤\n",
       "│ dense_1 (<span style=\"color: #0087ff; text-decoration-color: #0087ff\">Dense</span>)                 │ ?                      │   <span style=\"color: #00af00; text-decoration-color: #00af00\">0</span> (unbuilt) │\n",
       "└─────────────────────────────────┴────────────────────────┴───────────────┘\n",
       "</pre>\n"
      ],
      "text/plain": [
       "┏━━━━━━━━━━━━━━━━━━━━━━━━━━━━━━━━━┳━━━━━━━━━━━━━━━━━━━━━━━━┳━━━━━━━━━━━━━━━┓\n",
       "┃\u001b[1m \u001b[0m\u001b[1mLayer (type)                   \u001b[0m\u001b[1m \u001b[0m┃\u001b[1m \u001b[0m\u001b[1mOutput Shape          \u001b[0m\u001b[1m \u001b[0m┃\u001b[1m \u001b[0m\u001b[1m      Param #\u001b[0m\u001b[1m \u001b[0m┃\n",
       "┡━━━━━━━━━━━━━━━━━━━━━━━━━━━━━━━━━╇━━━━━━━━━━━━━━━━━━━━━━━━╇━━━━━━━━━━━━━━━┩\n",
       "│ lstm_1 (\u001b[38;5;33mLSTM\u001b[0m)                   │ ?                      │   \u001b[38;5;34m0\u001b[0m (unbuilt) │\n",
       "├─────────────────────────────────┼────────────────────────┼───────────────┤\n",
       "│ dense_1 (\u001b[38;5;33mDense\u001b[0m)                 │ ?                      │   \u001b[38;5;34m0\u001b[0m (unbuilt) │\n",
       "└─────────────────────────────────┴────────────────────────┴───────────────┘\n"
      ]
     },
     "metadata": {},
     "output_type": "display_data"
    },
    {
     "data": {
      "text/html": [
       "<pre style=\"white-space:pre;overflow-x:auto;line-height:normal;font-family:Menlo,'DejaVu Sans Mono',consolas,'Courier New',monospace\"><span style=\"font-weight: bold\"> Total params: </span><span style=\"color: #00af00; text-decoration-color: #00af00\">0</span> (0.00 B)\n",
       "</pre>\n"
      ],
      "text/plain": [
       "\u001b[1m Total params: \u001b[0m\u001b[38;5;34m0\u001b[0m (0.00 B)\n"
      ]
     },
     "metadata": {},
     "output_type": "display_data"
    },
    {
     "data": {
      "text/html": [
       "<pre style=\"white-space:pre;overflow-x:auto;line-height:normal;font-family:Menlo,'DejaVu Sans Mono',consolas,'Courier New',monospace\"><span style=\"font-weight: bold\"> Trainable params: </span><span style=\"color: #00af00; text-decoration-color: #00af00\">0</span> (0.00 B)\n",
       "</pre>\n"
      ],
      "text/plain": [
       "\u001b[1m Trainable params: \u001b[0m\u001b[38;5;34m0\u001b[0m (0.00 B)\n"
      ]
     },
     "metadata": {},
     "output_type": "display_data"
    },
    {
     "data": {
      "text/html": [
       "<pre style=\"white-space:pre;overflow-x:auto;line-height:normal;font-family:Menlo,'DejaVu Sans Mono',consolas,'Courier New',monospace\"><span style=\"font-weight: bold\"> Non-trainable params: </span><span style=\"color: #00af00; text-decoration-color: #00af00\">0</span> (0.00 B)\n",
       "</pre>\n"
      ],
      "text/plain": [
       "\u001b[1m Non-trainable params: \u001b[0m\u001b[38;5;34m0\u001b[0m (0.00 B)\n"
      ]
     },
     "metadata": {},
     "output_type": "display_data"
    }
   ],
   "source": [
    "optimizer = 'adam'\n",
    "loss = 'mse'\n",
    "model = Sequential()\n",
    "# model.add(LSTM(128,return_sequences=True))\n",
    "model.add(LSTM(64)) # model.add(LSTM(64,return_sequences=False))\n",
    "# model.add(Dense(25))\n",
    "model.add(Dense(1))\n",
    "model.compile(optimizer=optimizer, loss=loss)\n",
    "        \n",
    "model.summary()"
   ]
  },
  {
   "cell_type": "code",
   "execution_count": 19,
   "metadata": {},
   "outputs": [
    {
     "name": "stdout",
     "output_type": "stream",
     "text": [
      "Epoch 1/25\n",
      "\u001b[1m2330/2330\u001b[0m \u001b[32m━━━━━━━━━━━━━━━━━━━━\u001b[0m\u001b[37m\u001b[0m \u001b[1m7s\u001b[0m 3ms/step - loss: 0.9944 - val_loss: 1.0230\n",
      "Epoch 2/25\n",
      "\u001b[1m2330/2330\u001b[0m \u001b[32m━━━━━━━━━━━━━━━━━━━━\u001b[0m\u001b[37m\u001b[0m \u001b[1m6s\u001b[0m 2ms/step - loss: 0.9951 - val_loss: 1.0302\n",
      "Epoch 3/25\n",
      "\u001b[1m2330/2330\u001b[0m \u001b[32m━━━━━━━━━━━━━━━━━━━━\u001b[0m\u001b[37m\u001b[0m \u001b[1m6s\u001b[0m 2ms/step - loss: 0.9942 - val_loss: 1.0351\n",
      "Epoch 4/25\n",
      "\u001b[1m2330/2330\u001b[0m \u001b[32m━━━━━━━━━━━━━━━━━━━━\u001b[0m\u001b[37m\u001b[0m \u001b[1m6s\u001b[0m 2ms/step - loss: 0.9934 - val_loss: 1.0447\n",
      "Epoch 5/25\n",
      "\u001b[1m2330/2330\u001b[0m \u001b[32m━━━━━━━━━━━━━━━━━━━━\u001b[0m\u001b[37m\u001b[0m \u001b[1m6s\u001b[0m 3ms/step - loss: 0.9924 - val_loss: 1.0527\n",
      "Epoch 6/25\n",
      "\u001b[1m2330/2330\u001b[0m \u001b[32m━━━━━━━━━━━━━━━━━━━━\u001b[0m\u001b[37m\u001b[0m \u001b[1m6s\u001b[0m 3ms/step - loss: 0.9917 - val_loss: 1.0612\n",
      "Epoch 7/25\n",
      "\u001b[1m2330/2330\u001b[0m \u001b[32m━━━━━━━━━━━━━━━━━━━━\u001b[0m\u001b[37m\u001b[0m \u001b[1m6s\u001b[0m 3ms/step - loss: 0.9916 - val_loss: 1.0711\n",
      "Epoch 8/25\n",
      "\u001b[1m2330/2330\u001b[0m \u001b[32m━━━━━━━━━━━━━━━━━━━━\u001b[0m\u001b[37m\u001b[0m \u001b[1m6s\u001b[0m 3ms/step - loss: 0.9905 - val_loss: 1.0801\n",
      "Epoch 9/25\n",
      "\u001b[1m2330/2330\u001b[0m \u001b[32m━━━━━━━━━━━━━━━━━━━━\u001b[0m\u001b[37m\u001b[0m \u001b[1m6s\u001b[0m 3ms/step - loss: 0.9903 - val_loss: 1.0908\n",
      "Epoch 10/25\n",
      "\u001b[1m2330/2330\u001b[0m \u001b[32m━━━━━━━━━━━━━━━━━━━━\u001b[0m\u001b[37m\u001b[0m \u001b[1m6s\u001b[0m 3ms/step - loss: 0.9897 - val_loss: 1.1083\n",
      "Epoch 11/25\n",
      "\u001b[1m2330/2330\u001b[0m \u001b[32m━━━━━━━━━━━━━━━━━━━━\u001b[0m\u001b[37m\u001b[0m \u001b[1m6s\u001b[0m 3ms/step - loss: 0.9902 - val_loss: 1.1308\n",
      "Epoch 12/25\n",
      "\u001b[1m2330/2330\u001b[0m \u001b[32m━━━━━━━━━━━━━━━━━━━━\u001b[0m\u001b[37m\u001b[0m \u001b[1m6s\u001b[0m 3ms/step - loss: 0.9884 - val_loss: 1.1539\n",
      "Epoch 13/25\n",
      "\u001b[1m2330/2330\u001b[0m \u001b[32m━━━━━━━━━━━━━━━━━━━━\u001b[0m\u001b[37m\u001b[0m \u001b[1m6s\u001b[0m 3ms/step - loss: 0.9889 - val_loss: 1.1785\n",
      "Epoch 14/25\n",
      "\u001b[1m2330/2330\u001b[0m \u001b[32m━━━━━━━━━━━━━━━━━━━━\u001b[0m\u001b[37m\u001b[0m \u001b[1m6s\u001b[0m 3ms/step - loss: 0.9875 - val_loss: 1.2027\n",
      "Epoch 15/25\n",
      "\u001b[1m2330/2330\u001b[0m \u001b[32m━━━━━━━━━━━━━━━━━━━━\u001b[0m\u001b[37m\u001b[0m \u001b[1m6s\u001b[0m 3ms/step - loss: 0.9851 - val_loss: 1.2282\n",
      "Epoch 16/25\n",
      "\u001b[1m2330/2330\u001b[0m \u001b[32m━━━━━━━━━━━━━━━━━━━━\u001b[0m\u001b[37m\u001b[0m \u001b[1m6s\u001b[0m 3ms/step - loss: 0.9861 - val_loss: 1.2604\n",
      "Epoch 17/25\n",
      "\u001b[1m2330/2330\u001b[0m \u001b[32m━━━━━━━━━━━━━━━━━━━━\u001b[0m\u001b[37m\u001b[0m \u001b[1m6s\u001b[0m 3ms/step - loss: 0.9875 - val_loss: 1.2993\n",
      "Epoch 18/25\n",
      "\u001b[1m2330/2330\u001b[0m \u001b[32m━━━━━━━━━━━━━━━━━━━━\u001b[0m\u001b[37m\u001b[0m \u001b[1m6s\u001b[0m 3ms/step - loss: 0.9882 - val_loss: 1.3302\n",
      "Epoch 19/25\n",
      "\u001b[1m2330/2330\u001b[0m \u001b[32m━━━━━━━━━━━━━━━━━━━━\u001b[0m\u001b[37m\u001b[0m \u001b[1m6s\u001b[0m 3ms/step - loss: 0.9866 - val_loss: 1.3505\n",
      "Epoch 20/25\n",
      "\u001b[1m2330/2330\u001b[0m \u001b[32m━━━━━━━━━━━━━━━━━━━━\u001b[0m\u001b[37m\u001b[0m \u001b[1m6s\u001b[0m 3ms/step - loss: 0.9821 - val_loss: 1.4011\n",
      "Epoch 21/25\n",
      "\u001b[1m2330/2330\u001b[0m \u001b[32m━━━━━━━━━━━━━━━━━━━━\u001b[0m\u001b[37m\u001b[0m \u001b[1m6s\u001b[0m 3ms/step - loss: 0.9769 - val_loss: 1.4468\n",
      "Epoch 22/25\n",
      "\u001b[1m2330/2330\u001b[0m \u001b[32m━━━━━━━━━━━━━━━━━━━━\u001b[0m\u001b[37m\u001b[0m \u001b[1m6s\u001b[0m 3ms/step - loss: 0.9740 - val_loss: 1.4664\n",
      "Epoch 23/25\n",
      "\u001b[1m2330/2330\u001b[0m \u001b[32m━━━━━━━━━━━━━━━━━━━━\u001b[0m\u001b[37m\u001b[0m \u001b[1m6s\u001b[0m 3ms/step - loss: 0.9726 - val_loss: 1.4576\n",
      "Epoch 24/25\n",
      "\u001b[1m2330/2330\u001b[0m \u001b[32m━━━━━━━━━━━━━━━━━━━━\u001b[0m\u001b[37m\u001b[0m \u001b[1m6s\u001b[0m 3ms/step - loss: 0.9657 - val_loss: 1.4848\n",
      "Epoch 25/25\n",
      "\u001b[1m2330/2330\u001b[0m \u001b[32m━━━━━━━━━━━━━━━━━━━━\u001b[0m\u001b[37m\u001b[0m \u001b[1m6s\u001b[0m 3ms/step - loss: 0.9656 - val_loss: 1.5503\n",
      "\u001b[1m146/146\u001b[0m \u001b[32m━━━━━━━━━━━━━━━━━━━━\u001b[0m\u001b[37m\u001b[0m \u001b[1m0s\u001b[0m 1ms/step\n"
     ]
    },
    {
     "data": {
      "image/png": "[encoded data removed]",
      "text/plain": [
       "<Figure size 640x480 with 1 Axes>"
      ]
     },
     "metadata": {},
     "output_type": "display_data"
    }
   ],
   "source": [
    "epochs = 25\n",
    "batch_size = 8\n",
    "\n",
    "# reshape input data: (batch, timesteps, feature)\n",
    "x_train = x_train.reshape((x_train.shape[0], x_train.shape[1], 1))\n",
    "x_test = x_test.reshape((x_test.shape[0], x_test.shape[1], 1))\n",
    "# do not shuffle data during training because order matters in time series\n",
    "history = model.fit(x_train, y_train, epochs=epochs, batch_size=batch_size, \n",
    "                    validation_data=(x_test, y_test), shuffle=False)"
   ]
  },
  {
   "cell_type": "code",
   "execution_count": 25,
   "metadata": {},
   "outputs": [
    {
     "name": "stdout",
     "output_type": "stream",
     "text": [
      "\u001b[1m146/146\u001b[0m \u001b[32m━━━━━━━━━━━━━━━━━━━━\u001b[0m\u001b[37m\u001b[0m \u001b[1m0s\u001b[0m 1ms/step\n"
     ]
    },
    {
     "data": {
      "text/html": [
       "<div>\n",
       "<style scoped>\n",
       "    .dataframe tbody tr th:only-of-type {\n",
       "        vertical-align: middle;\n",
       "    }\n",
       "\n",
       "    .dataframe tbody tr th {\n",
       "        vertical-align: top;\n",
       "    }\n",
       "\n",
       "    .dataframe thead th {\n",
       "        text-align: right;\n",
       "    }\n",
       "</style>\n",
       "<table border=\"1\" class=\"dataframe\">\n",
       "  <thead>\n",
       "    <tr style=\"text-align: right;\">\n",
       "      <th></th>\n",
       "      <th>pred</th>\n",
       "      <th>act</th>\n",
       "    </tr>\n",
       "  </thead>\n",
       "  <tbody>\n",
       "    <tr>\n",
       "      <th>0</th>\n",
       "      <td>1</td>\n",
       "      <td>-1</td>\n",
       "    </tr>\n",
       "    <tr>\n",
       "      <th>1</th>\n",
       "      <td>-1</td>\n",
       "      <td>1</td>\n",
       "    </tr>\n",
       "    <tr>\n",
       "      <th>2</th>\n",
       "      <td>-1</td>\n",
       "      <td>-1</td>\n",
       "    </tr>\n",
       "    <tr>\n",
       "      <th>3</th>\n",
       "      <td>-1</td>\n",
       "      <td>-1</td>\n",
       "    </tr>\n",
       "    <tr>\n",
       "      <th>4</th>\n",
       "      <td>1</td>\n",
       "      <td>1</td>\n",
       "    </tr>\n",
       "  </tbody>\n",
       "</table>\n",
       "</div>"
      ],
      "text/plain": [
       "   pred  act\n",
       "0     1   -1\n",
       "1    -1    1\n",
       "2    -1   -1\n",
       "3    -1   -1\n",
       "4     1    1"
      ]
     },
     "execution_count": 25,
     "metadata": {},
     "output_type": "execute_result"
    }
   ],
   "source": [
    "# evaluate the model\n",
    "y_predicted = [1 if pred > 0 else -1 for pred in model.predict(x_test)]\n",
    "\n",
    "result_df = pd.DataFrame({'pred':list(np.reshape(y_predicted, (-1))),'act':list(np.reshape(y_test, (-1)))})\n",
    "result_df.head()"
   ]
  },
  {
   "cell_type": "code",
   "execution_count": 23,
   "metadata": {},
   "outputs": [
    {
     "name": "stdout",
     "output_type": "stream",
     "text": [
      "Accuracy: 0.50\n",
      "Kappa: 0.01\n"
     ]
    }
   ],
   "source": [
    "accuracy, score = evaluate(y_test, y_predicted)\n",
    "print(f\"Accuracy: {accuracy:.2f}\")\n",
    "print(f\"Kappa: {score:.2f}\")"
   ]
  },
  {
   "cell_type": "markdown",
   "metadata": {},
   "source": [
    "We will now train an LSTM for a regression task: forecast the next S&P500 closing price using the closing prices seen in the previous `num_lags` days."
   ]
  },
  {
   "cell_type": "code",
   "execution_count": 44,
   "metadata": {},
   "outputs": [],
   "source": [
    "df = pd.read_csv(DATA_PATH)\n",
    "closing_prices = df['Close']\n",
    "\n",
    "NUM_LAGS = 60\n",
    "\n",
    "# normalize the input data\n",
    "scaler = MinMaxScaler()\n",
    "scaled_data = closing_prices.values.reshape(closing_prices.shape[0], 1)\n",
    "scaled_data = scaler.fit_transform(scaled_data)\n",
    "\n",
    "# preprocess data for training\n",
    "def preprocess(df):\n",
    "    x, y = [], []\n",
    "    for i in range(len(df) - NUM_LAGS):\n",
    "        x.append(df[i : i + NUM_LAGS, 0])\n",
    "        y.append(df[i + NUM_LAGS, 0])\n",
    "\n",
    "    return np.array(x), np.array(y)\n",
    "\n",
    "x, y = preprocess(scaled_data)\n",
    "# split data into train and test sets\n",
    "split_index = int(SPLIT * len(x))\n",
    "x_train, y_train = x[:split_index], y[:split_index]\n",
    "x_test, y_test = x[split_index:], y[split_index:]"
   ]
  },
  {
   "cell_type": "code",
   "execution_count": 45,
   "metadata": {},
   "outputs": [],
   "source": [
    "model = Sequential()\n",
    "model.add(LSTM(64))\n",
    "model.add(Dense(1))\n",
    "model.compile(optimizer=optimizer, loss=loss)"
   ]
  },
  {
   "cell_type": "code",
   "execution_count": 46,
   "metadata": {},
   "outputs": [
    {
     "name": "stdout",
     "output_type": "stream",
     "text": [
      "Epoch 1/25\n",
      "\u001b[1m2327/2327\u001b[0m \u001b[32m━━━━━━━━━━━━━━━━━━━━\u001b[0m\u001b[37m\u001b[0m \u001b[1m12s\u001b[0m 5ms/step - loss: 2.1494e-06 - val_loss: 0.0302\n",
      "Epoch 2/25\n",
      "\u001b[1m2327/2327\u001b[0m \u001b[32m━━━━━━━━━━━━━━━━━━━━\u001b[0m\u001b[37m\u001b[0m \u001b[1m11s\u001b[0m 5ms/step - loss: 4.1434e-04 - val_loss: 0.0190\n",
      "Epoch 3/25\n",
      "\u001b[1m2327/2327\u001b[0m \u001b[32m━━━━━━━━━━━━━━━━━━━━\u001b[0m\u001b[37m\u001b[0m \u001b[1m11s\u001b[0m 5ms/step - loss: 3.2955e-04 - val_loss: 0.0199\n",
      "Epoch 4/25\n",
      "\u001b[1m2327/2327\u001b[0m \u001b[32m━━━━━━━━━━━━━━━━━━━━\u001b[0m\u001b[37m\u001b[0m \u001b[1m11s\u001b[0m 5ms/step - loss: 3.8182e-04 - val_loss: 0.0199\n",
      "Epoch 5/25\n",
      "\u001b[1m2327/2327\u001b[0m \u001b[32m━━━━━━━━━━━━━━━━━━━━\u001b[0m\u001b[37m\u001b[0m \u001b[1m11s\u001b[0m 5ms/step - loss: 3.6391e-04 - val_loss: 0.0183\n",
      "Epoch 6/25\n",
      "\u001b[1m2327/2327\u001b[0m \u001b[32m━━━━━━━━━━━━━━━━━━━━\u001b[0m\u001b[37m\u001b[0m \u001b[1m11s\u001b[0m 5ms/step - loss: 3.4922e-04 - val_loss: 0.0163\n",
      "Epoch 7/25\n",
      "\u001b[1m2327/2327\u001b[0m \u001b[32m━━━━━━━━━━━━━━━━━━━━\u001b[0m\u001b[37m\u001b[0m \u001b[1m11s\u001b[0m 5ms/step - loss: 2.8755e-04 - val_loss: 0.0133\n",
      "Epoch 8/25\n",
      "\u001b[1m2327/2327\u001b[0m \u001b[32m━━━━━━━━━━━━━━━━━━━━\u001b[0m\u001b[37m\u001b[0m \u001b[1m11s\u001b[0m 5ms/step - loss: 2.5848e-04 - val_loss: 0.0126\n",
      "Epoch 9/25\n",
      "\u001b[1m2327/2327\u001b[0m \u001b[32m━━━━━━━━━━━━━━━━━━━━\u001b[0m\u001b[37m\u001b[0m \u001b[1m11s\u001b[0m 5ms/step - loss: 2.2073e-04 - val_loss: 0.0102\n",
      "Epoch 10/25\n",
      "\u001b[1m2327/2327\u001b[0m \u001b[32m━━━━━━━━━━━━━━━━━━━━\u001b[0m\u001b[37m\u001b[0m \u001b[1m11s\u001b[0m 5ms/step - loss: 1.8385e-04 - val_loss: 0.0084\n",
      "Epoch 11/25\n",
      "\u001b[1m2327/2327\u001b[0m \u001b[32m━━━━━━━━━━━━━━━━━━━━\u001b[0m\u001b[37m\u001b[0m \u001b[1m12s\u001b[0m 5ms/step - loss: 1.4164e-04 - val_loss: 0.0062\n",
      "Epoch 12/25\n",
      "\u001b[1m2327/2327\u001b[0m \u001b[32m━━━━━━━━━━━━━━━━━━━━\u001b[0m\u001b[37m\u001b[0m \u001b[1m11s\u001b[0m 5ms/step - loss: 1.1182e-04 - val_loss: 0.0049\n",
      "Epoch 13/25\n",
      "\u001b[1m2327/2327\u001b[0m \u001b[32m━━━━━━━━━━━━━━━━━━━━\u001b[0m\u001b[37m\u001b[0m \u001b[1m11s\u001b[0m 5ms/step - loss: 8.6667e-05 - val_loss: 0.0034\n",
      "Epoch 14/25\n",
      "\u001b[1m2327/2327\u001b[0m \u001b[32m━━━━━━━━━━━━━━━━━━━━\u001b[0m\u001b[37m\u001b[0m \u001b[1m11s\u001b[0m 5ms/step - loss: 7.0150e-05 - val_loss: 0.0020\n",
      "Epoch 15/25\n",
      "\u001b[1m2327/2327\u001b[0m \u001b[32m━━━━━━━━━━━━━━━━━━━━\u001b[0m\u001b[37m\u001b[0m \u001b[1m11s\u001b[0m 5ms/step - loss: 5.2643e-05 - val_loss: 0.0014\n",
      "Epoch 16/25\n",
      "\u001b[1m2327/2327\u001b[0m \u001b[32m━━━━━━━━━━━━━━━━━━━━\u001b[0m\u001b[37m\u001b[0m \u001b[1m11s\u001b[0m 5ms/step - loss: 3.8015e-05 - val_loss: 0.0013\n",
      "Epoch 17/25\n",
      "\u001b[1m2327/2327\u001b[0m \u001b[32m━━━━━━━━━━━━━━━━━━━━\u001b[0m\u001b[37m\u001b[0m \u001b[1m11s\u001b[0m 5ms/step - loss: 3.2668e-05 - val_loss: 0.0012\n",
      "Epoch 18/25\n",
      "\u001b[1m2327/2327\u001b[0m \u001b[32m━━━━━━━━━━━━━━━━━━━━\u001b[0m\u001b[37m\u001b[0m \u001b[1m11s\u001b[0m 5ms/step - loss: 3.0679e-05 - val_loss: 0.0013\n",
      "Epoch 19/25\n",
      "\u001b[1m2327/2327\u001b[0m \u001b[32m━━━━━━━━━━━━━━━━━━━━\u001b[0m\u001b[37m\u001b[0m \u001b[1m11s\u001b[0m 5ms/step - loss: 2.8673e-05 - val_loss: 0.0012\n",
      "Epoch 20/25\n",
      "\u001b[1m2327/2327\u001b[0m \u001b[32m━━━━━━━━━━━━━━━━━━━━\u001b[0m\u001b[37m\u001b[0m \u001b[1m11s\u001b[0m 5ms/step - loss: 2.6627e-05 - val_loss: 0.0012\n",
      "Epoch 21/25\n",
      "\u001b[1m2327/2327\u001b[0m \u001b[32m━━━━━━━━━━━━━━━━━━━━\u001b[0m\u001b[37m\u001b[0m \u001b[1m11s\u001b[0m 5ms/step - loss: 2.6119e-05 - val_loss: 0.0011\n",
      "Epoch 22/25\n",
      "\u001b[1m2327/2327\u001b[0m \u001b[32m━━━━━━━━━━━━━━━━━━━━\u001b[0m\u001b[37m\u001b[0m \u001b[1m11s\u001b[0m 5ms/step - loss: 2.4055e-05 - val_loss: 0.0012\n",
      "Epoch 23/25\n",
      "\u001b[1m2327/2327\u001b[0m \u001b[32m━━━━━━━━━━━━━━━━━━━━\u001b[0m\u001b[37m\u001b[0m \u001b[1m11s\u001b[0m 5ms/step - loss: 2.3825e-05 - val_loss: 0.0011\n",
      "Epoch 24/25\n",
      "\u001b[1m2327/2327\u001b[0m \u001b[32m━━━━━━━━━━━━━━━━━━━━\u001b[0m\u001b[37m\u001b[0m \u001b[1m11s\u001b[0m 5ms/step - loss: 2.2052e-05 - val_loss: 0.0012\n",
      "Epoch 25/25\n",
      "\u001b[1m2327/2327\u001b[0m \u001b[32m━━━━━━━━━━━━━━━━━━━━\u001b[0m\u001b[37m\u001b[0m \u001b[1m11s\u001b[0m 5ms/step - loss: 2.1059e-05 - val_loss: 0.0012\n"
     ]
    }
   ],
   "source": [
    "x_train = x_train.reshape((x_train.shape[0], x_train.shape[1], 1))\n",
    "x_test = x_test.reshape((x_test.shape[0], x_test.shape[1], 1))\n",
    "\n",
    "history = model.fit(x_train, y_train, epochs=epochs, batch_size=batch_size, \n",
    "                    validation_data=(x_test, y_test), shuffle=False)"
   ]
  },
  {
   "cell_type": "code",
   "execution_count": 47,
   "metadata": {},
   "outputs": [
    {
     "name": "stdout",
     "output_type": "stream",
     "text": [
      "\u001b[1m146/146\u001b[0m \u001b[32m━━━━━━━━━━━━━━━━━━━━\u001b[0m\u001b[37m\u001b[0m \u001b[1m0s\u001b[0m 3ms/step\n"
     ]
    },
    {
     "data": {
      "text/html": [
       "<div>\n",
       "<style scoped>\n",
       "    .dataframe tbody tr th:only-of-type {\n",
       "        vertical-align: middle;\n",
       "    }\n",
       "\n",
       "    .dataframe tbody tr th {\n",
       "        vertical-align: top;\n",
       "    }\n",
       "\n",
       "    .dataframe thead th {\n",
       "        text-align: right;\n",
       "    }\n",
       "</style>\n",
       "<table border=\"1\" class=\"dataframe\">\n",
       "  <thead>\n",
       "    <tr style=\"text-align: right;\">\n",
       "      <th></th>\n",
       "      <th>pred</th>\n",
       "      <th>act</th>\n",
       "    </tr>\n",
       "  </thead>\n",
       "  <tbody>\n",
       "    <tr>\n",
       "      <th>0</th>\n",
       "      <td>1105.316895</td>\n",
       "      <td>1091.069946</td>\n",
       "    </tr>\n",
       "    <tr>\n",
       "      <th>1</th>\n",
       "      <td>1097.792358</td>\n",
       "      <td>1098.229980</td>\n",
       "    </tr>\n",
       "    <tr>\n",
       "      <th>2</th>\n",
       "      <td>1105.642212</td>\n",
       "      <td>1106.589966</td>\n",
       "    </tr>\n",
       "    <tr>\n",
       "      <th>3</th>\n",
       "      <td>1113.511841</td>\n",
       "      <td>1091.880005</td>\n",
       "    </tr>\n",
       "    <tr>\n",
       "      <th>4</th>\n",
       "      <td>1098.143921</td>\n",
       "      <td>1079.880005</td>\n",
       "    </tr>\n",
       "  </tbody>\n",
       "</table>\n",
       "</div>"
      ],
      "text/plain": [
       "          pred          act\n",
       "0  1105.316895  1091.069946\n",
       "1  1097.792358  1098.229980\n",
       "2  1105.642212  1106.589966\n",
       "3  1113.511841  1091.880005\n",
       "4  1098.143921  1079.880005"
      ]
     },
     "execution_count": 47,
     "metadata": {},
     "output_type": "execute_result"
    },
    {
     "data": {
      "image/png": "[encoded data removed]",
      "text/plain": [
       "<Figure size 640x480 with 1 Axes>"
      ]
     },
     "metadata": {},
     "output_type": "display_data"
    }
   ],
   "source": [
    "y_predicted = model.predict(x_test)\n",
    "pred = scaler.inverse_transform(y_predicted)\n",
    "actual = scaler.inverse_transform(y_test.reshape(-1,1))\n",
    "plt.plot(actual)\n",
    "plt.plot(pred)\n",
    "\n",
    "result_df = pd.DataFrame({'pred':list(np.reshape(pred, (-1))),'act':list(np.reshape(actual, (-1)))})\n",
    "result_df.head()"
   ]
  },
  {
   "cell_type": "code",
   "execution_count": 48,
   "metadata": {},
   "outputs": [
    {
     "name": "stdout",
     "output_type": "stream",
     "text": [
      "LSTM model MSE : 15393.436559284713\n",
      "LSTM model MAE : 85.80695145108079\n",
      "LSTM model MAPE : 0.040661404659154576\n"
     ]
    }
   ],
   "source": [
    "test = result_df['act']\n",
    "forecast = result_df['pred']\n",
    "\n",
    "print('LSTM model MSE :', mean_squared_error(test, forecast))\n",
    "print('LSTM model MAE :', mean_absolute_error(test, forecast))\n",
    "print('LSTM model MAPE :', mean_absolute_percentage_error(test, forecast))"
   ]
  },
  {
   "cell_type": "code",
   "execution_count": 56,
   "metadata": {},
   "outputs": [
    {
     "name": "stdout",
     "output_type": "stream",
     "text": [
      "(60, 1)\n",
      "(1, 60, 1)\n",
      "\u001b[1m1/1\u001b[0m \u001b[32m━━━━━━━━━━━━━━━━━━━━\u001b[0m\u001b[37m\u001b[0m \u001b[1m0s\u001b[0m 11ms/step\n",
      "[[3443.439941]] [[3065.5984]]\n"
     ]
    }
   ],
   "source": [
    "actual = scaled_data[-1]\n",
    "x = scaled_data[-NUM_LAGS - 1 : -1]\n",
    "print(x.shape)\n",
    "x = x.reshape((x.shape[1], x.shape[0], 1))\n",
    "print(x.shape)\n",
    "y_pred = model.predict(x)\n",
    "\n",
    "y_pred = scaler.inverse_transform(y_pred)\n",
    "actual = scaler.inverse_transform(actual.reshape(-1,1))\n",
    "\n",
    "print(actual, y_pred)"
   ]
  }
 ],
 "metadata": {
  "kernelspec": {
   "display_name": "env",
   "language": "python",
   "name": "python3"
  },
  "language_info": {
   "codemirror_mode": {
    "name": "ipython",
    "version": 3
   },
   "file_extension": ".py",
   "mimetype": "text/x-python",
   "name": "python",
   "nbconvert_exporter": "python",
   "pygments_lexer": "ipython3",
   "version": "3.9.6"
  }
 },
 "nbformat": 4,
 "nbformat_minor": 2
}
